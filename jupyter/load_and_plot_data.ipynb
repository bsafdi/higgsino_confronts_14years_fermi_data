{
 "cells": [
  {
   "cell_type": "code",
   "execution_count": 17,
   "id": "04750eaa",
   "metadata": {},
   "outputs": [
    {
     "name": "stdout",
     "output_type": "stream",
     "text": [
      "The autoreload extension is already loaded. To reload it, use:\n",
      "  %reload_ext autoreload\n"
     ]
    }
   ],
   "source": [
    "%matplotlib inline\n",
    "%load_ext autoreload\n",
    "%autoreload 2\n",
    "\n",
    "\n",
    "import matplotlib as mpl\n",
    "import matplotlib.pyplot as plt\n",
    "from matplotlib import rc\n",
    "from matplotlib import rcParams\n",
    "rc('font', **{'family': 'serif', 'serif': ['Computer Modern']})\n",
    "rcParams['text.usetex'] = True\n",
    "\n",
    "import numpy as np\n",
    "from scipy.interpolate import interp1d"
   ]
  },
  {
   "cell_type": "markdown",
   "id": "b56c2483",
   "metadata": {},
   "source": [
    "# Load the data"
   ]
  },
  {
   "cell_type": "code",
   "execution_count": 2,
   "id": "d5464c98",
   "metadata": {},
   "outputs": [],
   "source": [
    "data_dir = \"../data/\""
   ]
  },
  {
   "cell_type": "code",
   "execution_count": 3,
   "id": "de54a9cb",
   "metadata": {},
   "outputs": [],
   "source": [
    "# First let us load the profile likelihood cube\n",
    "LL_rad_bins_mass = np.load(data_dir + \"LL_cube.npy\") #these are 2*log(likelihood) values\n",
    "mH_array = np.load(data_dir + \"mH_array.npy\") #higgsino masses in units of GeV\n",
    "Asig_array = np.load(data_dir + \"Asig_array.npy\") #cross-section values, in units of 1e-26 cm^3/s\n",
    "\n",
    "# now let us load the J-factor information needed to interpret this data\n",
    "r_inners = np.load(data_dir + \"r_inners.npy\")\n",
    "J_array_NFW = np.load(data_dir + \"J_array_NFW.npy\")"
   ]
  },
  {
   "cell_type": "markdown",
   "id": "0e9f0a03",
   "metadata": {},
   "source": [
    "Above, `LL_rad_bins_mass` is a data cube that contains 2*log(likelihood) values in each radial annulus and for each mass in `mH_array` and for each signal strength parameter in `Asig_array`. \n",
    "\n",
    "`Asig_array`: Units are $10^{-26}$ cm$^3$/s\n",
    "\n",
    "`mH_array`: Units are GeV\n",
    "\n",
    "`LL_rad_bins_mass[i,j,k]`: `i` selects the higgsino mass, `j` the radial bin, and `k` the signal strength\n",
    "\n",
    "Note that the signal strength is normalized for the NFW profile J-factor that is given in `J_array_NFW`. The radial bins are given in `r_inners`, which gives the inner bin edges of each radial bin. (We do not use the first bin, which goes from 0 to 1 degrees)\n",
    "\n",
    "# Constructing a joint likelihood\n",
    "\n",
    "Below, we show how to use the data cube to construct a joint likelihood over the inner 9 radial annuli.\n",
    "\n",
    "First, let us look at which annuli we are using and their corresponding J-factors"
   ]
  },
  {
   "cell_type": "code",
   "execution_count": 13,
   "id": "d9e7fcef",
   "metadata": {},
   "outputs": [
    {
     "name": "stdout",
     "output_type": "stream",
     "text": [
      "annulus is from  1  to  2  degrees from the GC\n",
      "J-factor is  1.606774931855554e+24  GeV^2/cm^5\n",
      "-------------\n",
      "annulus is from  2  to  3  degrees from the GC\n",
      "J-factor is  9.594159974696395e+23  GeV^2/cm^5\n",
      "-------------\n",
      "annulus is from  3  to  4  degrees from the GC\n",
      "J-factor is  6.518144213291028e+23  GeV^2/cm^5\n",
      "-------------\n",
      "annulus is from  4  to  5  degrees from the GC\n",
      "J-factor is  4.8162984761052215e+23  GeV^2/cm^5\n",
      "-------------\n",
      "annulus is from  5  to  6  degrees from the GC\n",
      "J-factor is  3.7523821586844866e+23  GeV^2/cm^5\n",
      "-------------\n",
      "annulus is from  6  to  7  degrees from the GC\n",
      "J-factor is  3.030390575016227e+23  GeV^2/cm^5\n",
      "-------------\n",
      "annulus is from  7  to  8  degrees from the GC\n",
      "J-factor is  2.5119689315049502e+23  GeV^2/cm^5\n",
      "-------------\n",
      "annulus is from  8  to  9  degrees from the GC\n",
      "J-factor is  2.1202481685009542e+23  GeV^2/cm^5\n",
      "-------------\n",
      "annulus is from  9  to  10  degrees from the GC\n",
      "J-factor is  1.8187332816093062e+23  GeV^2/cm^5\n",
      "-------------\n"
     ]
    }
   ],
   "source": [
    "for i in range(1,10):\n",
    "    print(\"annulus is from \", r_inners[i],\" to \",r_inners[i+1], \" degrees from the GC\")\n",
    "    print(\"J-factor is \",J_array_NFW[i], \" GeV^2/cm^5\")\n",
    "    print(\"-------------\")"
   ]
  },
  {
   "cell_type": "markdown",
   "id": "f7a9d118",
   "metadata": {},
   "source": [
    "The functions below construct the joint likelihood, at a fixed mass index `mH_index`, by summing over the likelihood values in each of the annuli. `joint_likelihood_array` accepts either a scalar or an array of signal strength parameters `Asig`."
   ]
  },
  {
   "cell_type": "code",
   "execution_count": 49,
   "id": "cfecb030",
   "metadata": {},
   "outputs": [],
   "source": [
    "def joint_likelihood(mH_index,Asig):\n",
    "    '''\n",
    "    mH_index: the index for the higgsino mass (from mH_array)\n",
    "    Asig: the signal strength parameter in units of 1e-26 cm^3/s\n",
    "    returns: -2*log(likelihood)\n",
    "    '''\n",
    "    shape = np.shape(Asig)\n",
    "    LL_tmp = LL_rad_bins_mass[mH_index] \n",
    "    LL_tot = 0.0\n",
    "    for i in range(1,10):\n",
    "        LL_tot += interp1d(Asig_array,LL_tmp[i])(Asig)\n",
    "    return LL_tot\n",
    "    \n",
    "def joint_likelihood_array(mH_index,Asig):\n",
    "    '''\n",
    "    mH_index: the index for the higgsino mass (from mH_array)\n",
    "    Asig: the signal strength parameter in units of 1e-26 cm^3/s. This can be an array for this function!\n",
    "    returns: -2*log(likelihood)\n",
    "    '''\n",
    "    shape = np.shape(Asig)\n",
    "    if len(shape)==0:\n",
    "        return joint_likelihood(mH_index,Asig)\n",
    "    else:\n",
    "        NA = len(Asig)\n",
    "        res = np.zeros(NA)\n",
    "        for i in range(NA):\n",
    "            res[i] = joint_likelihood(mH_index,Asig[i])\n",
    "        return res\n",
    "        "
   ]
  },
  {
   "cell_type": "markdown",
   "id": "a968e68e",
   "metadata": {},
   "source": [
    "# Examples: computing joint likelihoods, best-fits, and upper limits\n",
    "\n",
    "As an example, we take `mH_index = 6`, corresponding to around a 1.1 TeV higgsino. We compute the joint likelihood and use it to find the best-fit cross-section and the 95\\% one-sided upper limit"
   ]
  },
  {
   "cell_type": "code",
   "execution_count": 30,
   "id": "52649bdd",
   "metadata": {},
   "outputs": [
    {
     "name": "stdout",
     "output_type": "stream",
     "text": [
      "For this example, the higgsino mass is  1133.3333333333333\n"
     ]
    }
   ],
   "source": [
    "mH_index = 6\n",
    "print(\"For this example, the higgsino mass is \",mH_array[mH_index])"
   ]
  },
  {
   "cell_type": "code",
   "execution_count": 50,
   "id": "050317ca",
   "metadata": {},
   "outputs": [],
   "source": [
    "# Here we call the joint likelihood function, over annuli, and compute the best-fit and 95% one-sided U.L.\n",
    "LL_joint_example = joint_likelihood_array(mH_index,Asig_array)\n",
    "best_fit = Asig_array[np.argmin(LL_joint_example)]\n",
    "UL = Asig_array[np.where(LL_joint_example - np.min(LL_joint_example) <2.71)[0][-1]]"
   ]
  },
  {
   "cell_type": "markdown",
   "id": "036d5c9c",
   "metadata": {},
   "source": [
    "### Plot the result"
   ]
  },
  {
   "cell_type": "code",
   "execution_count": 51,
   "id": "05c573c8",
   "metadata": {},
   "outputs": [
    {
     "data": {
      "text/plain": [
       "Text(0, 0.5, '$-2 \\\\log p/p_0$')"
      ]
     },
     "execution_count": 51,
     "metadata": {},
     "output_type": "execute_result"
    },
    {
     "data": {
      "image/png": "[encoded data removed]",
      "text/plain": [
       "<Figure size 720x576 with 1 Axes>"
      ]
     },
     "metadata": {
      "needs_background": "light"
     },
     "output_type": "display_data"
    }
   ],
   "source": [
    "fig = plt.figure(figsize=(10,8))\n",
    "plt.plot(Asig_array,LL_joint_example-np.min(LL_joint_example),'k-')\n",
    "plt.axvline(best_fit,color=\"black\",label=\"best-fit\",linestyle=\"dotted\")\n",
    "plt.axvline(UL,color=\"black\",label=\"95\\% U.L.\",linestyle=\"dashed\")\n",
    "plt.ylim(0,9)\n",
    "plt.legend(fontsize=18)\n",
    "\n",
    "plt.xticks(fontsize=18)\n",
    "plt.yticks(fontsize=18)\n",
    "plt.xlabel(r\"$\\langle \\sigma v\\rangle$ [$10^{-26}$ cm$^3$/s]\",fontsize=18)\n",
    "plt.ylabel(r\"$-2 \\log p/p_0$\",fontsize=18)"
   ]
  },
  {
   "cell_type": "code",
   "execution_count": null,
   "id": "50ff4bae",
   "metadata": {},
   "outputs": [],
   "source": []
  }
 ],
 "metadata": {
  "kernelspec": {
   "display_name": "Python 3 (ipykernel)",
   "language": "python",
   "name": "python3"
  },
  "language_info": {
   "codemirror_mode": {
    "name": "ipython",
    "version": 3
   },
   "file_extension": ".py",
   "mimetype": "text/x-python",
   "name": "python",
   "nbconvert_exporter": "python",
   "pygments_lexer": "ipython3",
   "version": "3.7.4"
  }
 },
 "nbformat": 4,
 "nbformat_minor": 5
}
